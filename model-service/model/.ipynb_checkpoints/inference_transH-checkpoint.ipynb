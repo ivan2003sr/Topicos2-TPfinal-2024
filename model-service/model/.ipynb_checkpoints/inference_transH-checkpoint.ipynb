{
 "cells": [
  {
   "cell_type": "code",
   "execution_count": 1,
   "id": "c5115167-7e7c-4cba-90a2-5058e6243f84",
   "metadata": {},
   "outputs": [],
   "source": [
    "from pykeen.pipeline import pipeline\n",
    "from pykeen.triples import TriplesFactory\n",
    "import pandas as pd\n",
    "import torch\n",
    "import numpy as np"
   ]
  },
  {
   "cell_type": "code",
   "execution_count": 2,
   "id": "c9b6849e-7263-4425-8a87-9459573b1ca3",
   "metadata": {},
   "outputs": [],
   "source": [
    "# Nota sobre la seguridad cargando modelos serializados\n",
    "model = torch.load('models/inmuebles_grupo_01.v2/trained_model.pkl', weights_only=False, map_location=torch.device('cpu'))"
   ]
  },
  {
   "cell_type": "code",
   "execution_count": 3,
   "id": "bb38b80a-6035-4e5a-b6bb-36f7daea0e23",
   "metadata": {},
   "outputs": [
    {
     "data": {
      "text/plain": [
       "TriplesFactory(num_entities=418172, num_relations=48, create_inverse_triples=True, num_triples=2008458, path=\"/home/emanuel/MaestriaIS/Topicos2-TPfinal-2024/dataset/dataset_train.tsv.gz\")"
      ]
     },
     "execution_count": 3,
     "metadata": {},
     "output_type": "execute_result"
    }
   ],
   "source": [
    "triples_file = 'dataset/dataset_train.tsv.gz'\n",
    "triples_factory = TriplesFactory.from_path(triples_file,create_inverse_triples=True)\n",
    "triples_factory"
   ]
  },
  {
   "cell_type": "code",
   "execution_count": 4,
   "id": "e2b680a0-919d-4a55-9bbc-6572c97e7bed",
   "metadata": {},
   "outputs": [
    {
     "data": {
      "text/plain": [
       "5"
      ]
     },
     "execution_count": 4,
     "metadata": {},
     "output_type": "execute_result"
    }
   ],
   "source": [
    "triples_factory.relation_to_id['http://www.w3.org/2002/07/owl#sameAs']"
   ]
  },
  {
   "cell_type": "code",
   "execution_count": null,
   "id": "7ae1c06e-8fb5-4c22-9637-4e5442cdb512",
   "metadata": {},
   "outputs": [],
   "source": []
  },
  {
   "cell_type": "code",
   "execution_count": 5,
   "id": "f0bd8fb3-b4ed-4c27-a41a-de6de3627590",
   "metadata": {},
   "outputs": [],
   "source": [
    "# para extraer las entidades, con tripletas donde me interesa que el nodo head sea nodo principal de un inmueble\n",
    "df = pd.read_csv(triples_file, sep='\\t', header=None, names=['head', 'relation', 'tail'])\n",
    "# Extraigo solo los nodos que son principales, es decir solo los inmuebles unicos\n",
    "heads = df[list(map(lambda x: True if ('pronto.owl#space_site' in x) and (len(x.split('#')[1].split('_')) == 3) else False, df['head'].values))]['head'].values\n",
    "# Extrago las relaciones (Tiene el mismo tamaño que head)\n",
    "relations = ['http://www.w3.org/2002/07/owl#sameAs'] * len(heads)\n",
    "# heads = df['head'].tolist()\n",
    "# relations = df['relation'].tolist()\n",
    "\n",
    "# Estraigo solo los ids\n",
    "heads_idx = [triples_factory.entity_to_id[head] for head in heads]\n",
    "relations_idx = [triples_factory.relation_to_id[relation] for relation in relations]"
   ]
  },
  {
   "cell_type": "code",
   "execution_count": 6,
   "id": "f3173c2e-58a5-4710-95eb-6f8d691ff47c",
   "metadata": {},
   "outputs": [
    {
     "data": {
      "text/plain": [
       "torch.Size([1420663, 2])"
      ]
     },
     "execution_count": 6,
     "metadata": {},
     "output_type": "execute_result"
    }
   ],
   "source": [
    "hr_batch = torch.tensor(list(zip(heads_idx, relations_idx)))\n",
    "hr_batch.shape"
   ]
  },
  {
   "cell_type": "code",
   "execution_count": 14,
   "id": "a64eacf1-47e2-4f62-acae-2e7dd1725d62",
   "metadata": {},
   "outputs": [
    {
     "data": {
      "text/plain": [
       "tensor([[334785,      5],\n",
       "        [252582,      5],\n",
       "        [301978,      5],\n",
       "        ...,\n",
       "        [279291,      5],\n",
       "        [268183,      5],\n",
       "        [344434,      5]])"
      ]
     },
     "execution_count": 14,
     "metadata": {},
     "output_type": "execute_result"
    }
   ],
   "source": [
    "# tenemos una lista de listas donde tenemos el id de un inmieble y el id de la relacion SameAss\n",
    "hr_batch"
   ]
  },
  {
   "cell_type": "code",
   "execution_count": null,
   "id": "d79edb03-d7f7-40da-b596-94f92380188a",
   "metadata": {},
   "outputs": [],
   "source": [
    "# Inferencia \n",
    "# Para todas las entidades que representan un inmieble (el nodo rais de un inmuble), le pregunto al modelo si cual es el score de la relacion SameAsç\n",
    "# OJO con el uso de memoria\n",
    "# Para este ejemplo, el modelo responderia de 44372*418172 = 18555127984 numero en punto flotante de 32 bits"
   ]
  },
  {
   "cell_type": "code",
   "execution_count": 7,
   "id": "bc138468-7ddb-400d-b1d2-69c73df24b5a",
   "metadata": {},
   "outputs": [
    {
     "data": {
      "text/plain": [
       "tensor([[334785,      5]])"
      ]
     },
     "execution_count": 7,
     "metadata": {},
     "output_type": "execute_result"
    }
   ],
   "source": [
    "# score_t recibe una lista de listas .. si sample = hr_batch[:0], la llamada a score_t falla\n",
    "# usar slicing (hr_batch[0:1])\n",
    "# Generamos un sample, si quiero los primeros 20 elementos pongo en vez de 1, pongo 20\n",
    "sample = hr_batch[:1]\n",
    "sample"
   ]
  },
  {
   "cell_type": "code",
   "execution_count": 8,
   "id": "50a07928-766e-4bfd-a692-5c2feba12307",
   "metadata": {},
   "outputs": [],
   "source": [
    "# si usan placa de video, CUDA puede lanzar excepciones de outomemory al cabo de un par de iteraciones \n",
    "# esta funcion es util para sacar cosas de la CRAM cada tanto \n",
    "torch.cuda.empty_cache()"
   ]
  },
  {
   "cell_type": "code",
   "execution_count": 10,
   "id": "a17b5309-54ec-451f-8788-0837fa06375c",
   "metadata": {},
   "outputs": [
    {
     "data": {
      "text/plain": [
       "tensor([[-5.4302, -5.0816, -6.7288,  ..., -6.6870, -8.9306, -8.5871]],\n",
       "       grad_fn=<NegBackward0>)"
      ]
     },
     "execution_count": 10,
     "metadata": {},
     "output_type": "execute_result"
    }
   ],
   "source": [
    "# score_t donde la t es tail, donde doy uno o varios head x relation, y le pido el score a todos los tails posibles\n",
    "# devuelve un arreglo de cosas bastantes grandes, devuelve la misma cantidad de entidades en el grafo \n",
    "# devuelve score_t un valor que en base al model transH cuando mas chico (negativo, x eso no es probabilidad) es mucho mejor\n",
    "# podemos ordenar de menor a mayor y devolver los primeros 6 o 7 valores de 1 elemento (para API)\n",
    "scores = model.score_t(sample)\n",
    "scores"
   ]
  },
  {
   "cell_type": "code",
   "execution_count": 11,
   "id": "48b3835e-cb17-4171-b7cb-f30eb6204c69",
   "metadata": {},
   "outputs": [
    {
     "data": {
      "text/plain": [
       "torch.Size([1, 418172])"
      ]
     },
     "execution_count": 11,
     "metadata": {},
     "output_type": "execute_result"
    }
   ],
   "source": [
    "# devuelve la misma cantidad de entidades (no importa si son baños, departamentos, superficies, entidades etc)\n",
    "scores.shape"
   ]
  },
  {
   "cell_type": "code",
   "execution_count": 20,
   "id": "aa62e529-b89b-4459-8daf-25c517f80c51",
   "metadata": {},
   "outputs": [
    {
     "data": {
      "text/plain": [
       "tensor(-15.8717, device='cuda:1', grad_fn=<MinBackward1>)"
      ]
     },
     "execution_count": 20,
     "metadata": {},
     "output_type": "execute_result"
    }
   ],
   "source": [
    "scores[2].min()"
   ]
  },
  {
   "cell_type": "code",
   "execution_count": 14,
   "id": "4605a385-43b1-428e-a606-553828272a5c",
   "metadata": {},
   "outputs": [
    {
     "data": {
      "text/plain": [
       "torch.return_types.topk(\n",
       "values=tensor([[-14.4324, -14.3714, -14.3603, -14.2858, -14.1999, -14.1873, -14.1745,\n",
       "         -14.0437, -14.0382, -14.0321]], grad_fn=<TopkBackward0>),\n",
       "indices=tensor([[162569, 119965, 126441, 160233, 149206,  56461, 136246, 139504, 157410,\n",
       "         131788]]))"
      ]
     },
     "execution_count": 14,
     "metadata": {},
     "output_type": "execute_result"
    }
   ],
   "source": [
    "# scores.topk(10)\n",
    "scores.topk(10, largest=False)\n"
   ]
  },
  {
   "cell_type": "code",
   "execution_count": 21,
   "id": "6068bb51-e41b-4000-af6a-b0e7d62c155e",
   "metadata": {},
   "outputs": [],
   "source": [
    "scores = scores[1].to('cpu').detach().numpy()"
   ]
  },
  {
   "cell_type": "code",
   "execution_count": 65,
   "id": "df34ecdc-4e7e-4678-bee7-ad7cd44b7abb",
   "metadata": {},
   "outputs": [],
   "source": [
    "# no funciona\n",
    "T = 0.208 # Ajusta según la dispersión de los scores\n",
    "probabilities = np.exp(-scores / T) / np.sum(np.exp(-scores / T))\n",
    "#probabilities = np.exp(-scores) / np.sum(np.exp(-scores))"
   ]
  },
  {
   "cell_type": "code",
   "execution_count": 66,
   "id": "5402f67c-e4a6-4e96-ba98-466cc16d9f64",
   "metadata": {},
   "outputs": [
    {
     "data": {
      "text/plain": [
       "np.float32(0.14154623)"
      ]
     },
     "execution_count": 66,
     "metadata": {},
     "output_type": "execute_result"
    }
   ],
   "source": [
    "probabilities.max()"
   ]
  },
  {
   "cell_type": "code",
   "execution_count": 68,
   "id": "4d330b7c-58a5-4e3e-bb3f-138a2b5e6530",
   "metadata": {},
   "outputs": [
    {
     "data": {
      "text/plain": [
       "[]"
      ]
     },
     "execution_count": 68,
     "metadata": {},
     "output_type": "execute_result"
    }
   ],
   "source": [
    "[(triples_factory.entity_id_to_label[int(l)],probabilities[int(l)]) for l in hr_batch[probabilities[hr_batch[:,0]]>0.005][:,0]]"
   ]
  },
  {
   "cell_type": "code",
   "execution_count": 30,
   "id": "17d9cfdd-5c4a-4df1-b792-319dad62d58c",
   "metadata": {},
   "outputs": [],
   "source": [
    "def get_prob(s):\n",
    "    return 1 / (1 + np.exp(-s))"
   ]
  },
  {
   "cell_type": "code",
   "execution_count": 40,
   "id": "0379e430-9765-4b89-a4f9-d4c7ef61c159",
   "metadata": {},
   "outputs": [
    {
     "data": {
      "text/plain": [
       "np.float64(0.14185106490048777)"
      ]
     },
     "execution_count": 40,
     "metadata": {},
     "output_type": "execute_result"
    }
   ],
   "source": [
    "get_prob(-1.8)"
   ]
  },
  {
   "cell_type": "code",
   "execution_count": null,
   "id": "4b9b66a4-7ef5-46f3-bad8-e5ebff17d611",
   "metadata": {},
   "outputs": [],
   "source": []
  }
 ],
 "metadata": {
  "kernelspec": {
   "display_name": "Python 3 (ipykernel)",
   "language": "python",
   "name": "python3"
  },
  "language_info": {
   "codemirror_mode": {
    "name": "ipython",
    "version": 3
   },
   "file_extension": ".py",
   "mimetype": "text/x-python",
   "name": "python",
   "nbconvert_exporter": "python",
   "pygments_lexer": "ipython3",
   "version": "3.10.16"
  }
 },
 "nbformat": 4,
 "nbformat_minor": 5
}
