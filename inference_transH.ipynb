{
 "cells": [
  {
   "cell_type": "code",
   "execution_count": 1,
   "id": "c5115167-7e7c-4cba-90a2-5058e6243f84",
   "metadata": {},
   "outputs": [
    {
     "name": "stderr",
     "output_type": "stream",
     "text": [
      "/home/jwackito/miniconda3/envs/csv2pront/lib/python3.12/site-packages/tqdm/auto.py:21: TqdmWarning: IProgress not found. Please update jupyter and ipywidgets. See https://ipywidgets.readthedocs.io/en/stable/user_install.html\n",
      "  from .autonotebook import tqdm as notebook_tqdm\n"
     ]
    }
   ],
   "source": [
    "from pykeen.pipeline import pipeline\n",
    "from pykeen.triples import TriplesFactory\n",
    "import pandas as pd\n",
    "import torch\n",
    "import numpy as np"
   ]
  },
  {
   "cell_type": "code",
   "execution_count": 2,
   "id": "c9b6849e-7263-4425-8a87-9459573b1ca3",
   "metadata": {},
   "outputs": [],
   "source": [
    "# Nota sobre la seguridad cargando modelos serializados\n",
    "model = torch.load('models/inmuebles_grupo_01.v2/trained_model.pkl', weights_only=False)"
   ]
  },
  {
   "cell_type": "code",
   "execution_count": 4,
   "id": "bb38b80a-6035-4e5a-b6bb-36f7daea0e23",
   "metadata": {},
   "outputs": [
    {
     "data": {
      "text/plain": [
       "TriplesFactory(num_entities=418172, num_relations=48, create_inverse_triples=True, num_triples=2008458, path=\"/home/jwackito/git/TopicosIngenieriaSoftware2-2024/dataset/dataset_train.tsv.gz\")"
      ]
     },
     "execution_count": 4,
     "metadata": {},
     "output_type": "execute_result"
    }
   ],
   "source": [
    "triples_file = 'dataset/dataset_train.tsv.gz'\n",
    "triples_factory = TriplesFactory.from_path(triples_file,create_inverse_triples=True)\n",
    "triples_factory"
   ]
  },
  {
   "cell_type": "code",
   "execution_count": 5,
   "id": "e2b680a0-919d-4a55-9bbc-6572c97e7bed",
   "metadata": {},
   "outputs": [
    {
     "data": {
      "text/plain": [
       "5"
      ]
     },
     "execution_count": 5,
     "metadata": {},
     "output_type": "execute_result"
    }
   ],
   "source": [
    "triples_factory.relation_to_id['http://www.w3.org/2002/07/owl#sameAs']"
   ]
  },
  {
   "cell_type": "code",
   "execution_count": 6,
   "id": "f0bd8fb3-b4ed-4c27-a41a-de6de3627590",
   "metadata": {},
   "outputs": [],
   "source": [
    "df = pd.read_csv(triples_file, sep='\\t', header=None, names=['head', 'relation', 'tail'])\n",
    "heads = df[list(map(lambda x: True if ('pronto.owl#space_site' in x) and (len(x.split('#')[1].split('_')) == 3) else False, df['head'].values))]['head'].values\n",
    "relations = ['http://www.w3.org/2002/07/owl#sameAs'] * len(heads)\n",
    "# heads = df['head'].tolist()\n",
    "# relations = df['relation'].tolist()\n",
    "\n",
    "heads_idx = [triples_factory.entity_to_id[head] for head in heads]\n",
    "relations_idx = [triples_factory.relation_to_id[relation] for relation in relations]"
   ]
  },
  {
   "cell_type": "code",
   "execution_count": 7,
   "id": "f3173c2e-58a5-4710-95eb-6f8d691ff47c",
   "metadata": {},
   "outputs": [
    {
     "data": {
      "text/plain": [
       "torch.Size([1420663, 2])"
      ]
     },
     "execution_count": 7,
     "metadata": {},
     "output_type": "execute_result"
    }
   ],
   "source": [
    "hr_batch = torch.tensor(list(zip(heads_idx, relations_idx)))\n",
    "hr_batch.shape"
   ]
  },
  {
   "cell_type": "code",
   "execution_count": 8,
   "id": "bc138468-7ddb-400d-b1d2-69c73df24b5a",
   "metadata": {},
   "outputs": [
    {
     "data": {
      "text/plain": [
       "tensor([[334785,      5],\n",
       "        [252582,      5],\n",
       "        [301978,      5],\n",
       "        [304516,      5],\n",
       "        [327025,      5],\n",
       "        [280052,      5],\n",
       "        [309811,      5],\n",
       "        [294461,      5],\n",
       "        [309906,      5],\n",
       "        [320615,      5],\n",
       "        [320677,      5],\n",
       "        [296972,      5],\n",
       "        [325533,      5],\n",
       "        [350690,      5],\n",
       "        [295861,      5],\n",
       "        [344774,      5],\n",
       "        [416870,      5],\n",
       "        [415431,      5],\n",
       "        [313221,      5],\n",
       "        [366731,      5]])"
      ]
     },
     "execution_count": 8,
     "metadata": {},
     "output_type": "execute_result"
    }
   ],
   "source": [
    "sample = hr_batch[:20]\n",
    "sample"
   ]
  },
  {
   "cell_type": "code",
   "execution_count": 9,
   "id": "50a07928-766e-4bfd-a692-5c2feba12307",
   "metadata": {},
   "outputs": [],
   "source": [
    "torch.cuda.empty_cache()"
   ]
  },
  {
   "cell_type": "code",
   "execution_count": 17,
   "id": "a17b5309-54ec-451f-8788-0837fa06375c",
   "metadata": {},
   "outputs": [
    {
     "data": {
      "text/plain": [
       "tensor([[ -5.4302,  -5.0816,  -6.7288,  ...,  -6.6870,  -8.9306,  -8.5871],\n",
       "        [ -8.9738,  -8.6056, -10.2839,  ..., -10.2634, -12.5309, -12.1704],\n",
       "        [ -6.8197,  -6.4671,  -8.1440,  ...,  -8.0994, -10.3663, -10.0077],\n",
       "        ...,\n",
       "        [ -3.6246,  -3.3023,  -4.8715,  ...,  -4.8422,  -7.0516,  -6.7066],\n",
       "        [ -5.8866,  -5.5371,  -7.1964,  ...,  -7.1576,  -9.4119,  -9.0574],\n",
       "        [ -8.9070,  -8.5412, -10.2245,  ..., -10.2001, -12.4749, -12.1164]],\n",
       "       device='cuda:1', grad_fn=<NegBackward0>)"
      ]
     },
     "execution_count": 17,
     "metadata": {},
     "output_type": "execute_result"
    }
   ],
   "source": [
    "scores = model.score_t(sample)\n",
    "scores"
   ]
  },
  {
   "cell_type": "code",
   "execution_count": 20,
   "id": "aa62e529-b89b-4459-8daf-25c517f80c51",
   "metadata": {},
   "outputs": [
    {
     "data": {
      "text/plain": [
       "tensor(-15.8717, device='cuda:1', grad_fn=<MinBackward1>)"
      ]
     },
     "execution_count": 20,
     "metadata": {},
     "output_type": "execute_result"
    }
   ],
   "source": [
    "scores[2].min()"
   ]
  },
  {
   "cell_type": "code",
   "execution_count": 21,
   "id": "6068bb51-e41b-4000-af6a-b0e7d62c155e",
   "metadata": {},
   "outputs": [],
   "source": [
    "scores = scores[1].to('cpu').detach().numpy()"
   ]
  },
  {
   "cell_type": "code",
   "execution_count": 65,
   "id": "df34ecdc-4e7e-4678-bee7-ad7cd44b7abb",
   "metadata": {},
   "outputs": [],
   "source": [
    "T = 0.208 # Ajusta según la dispersión de los scores\n",
    "probabilities = np.exp(-scores / T) / np.sum(np.exp(-scores / T))\n",
    "#probabilities = np.exp(-scores) / np.sum(np.exp(-scores))"
   ]
  },
  {
   "cell_type": "code",
   "execution_count": 66,
   "id": "5402f67c-e4a6-4e96-ba98-466cc16d9f64",
   "metadata": {},
   "outputs": [
    {
     "data": {
      "text/plain": [
       "np.float32(0.14154623)"
      ]
     },
     "execution_count": 66,
     "metadata": {},
     "output_type": "execute_result"
    }
   ],
   "source": [
    "probabilities.max()"
   ]
  },
  {
   "cell_type": "code",
   "execution_count": 68,
   "id": "4d330b7c-58a5-4e3e-bb3f-138a2b5e6530",
   "metadata": {},
   "outputs": [
    {
     "data": {
      "text/plain": [
       "[]"
      ]
     },
     "execution_count": 68,
     "metadata": {},
     "output_type": "execute_result"
    }
   ],
   "source": [
    "[(triples_factory.entity_id_to_label[int(l)],probabilities[int(l)]) for l in hr_batch[probabilities[hr_batch[:,0]]>0.005][:,0]]"
   ]
  },
  {
   "cell_type": "code",
   "execution_count": 30,
   "id": "17d9cfdd-5c4a-4df1-b792-319dad62d58c",
   "metadata": {},
   "outputs": [],
   "source": [
    "def get_prob(s):\n",
    "    return 1 / (1 + np.exp(-s))"
   ]
  },
  {
   "cell_type": "code",
   "execution_count": 40,
   "id": "0379e430-9765-4b89-a4f9-d4c7ef61c159",
   "metadata": {},
   "outputs": [
    {
     "data": {
      "text/plain": [
       "np.float64(0.14185106490048777)"
      ]
     },
     "execution_count": 40,
     "metadata": {},
     "output_type": "execute_result"
    }
   ],
   "source": [
    "get_prob(-1.8)"
   ]
  },
  {
   "cell_type": "code",
   "execution_count": null,
   "id": "4b9b66a4-7ef5-46f3-bad8-e5ebff17d611",
   "metadata": {},
   "outputs": [],
   "source": []
  }
 ],
 "metadata": {
  "kernelspec": {
   "display_name": "Python [conda env:csv2pront]",
   "language": "python",
   "name": "conda-env-csv2pront-py"
  },
  "language_info": {
   "codemirror_mode": {
    "name": "ipython",
    "version": 3
   },
   "file_extension": ".py",
   "mimetype": "text/x-python",
   "name": "python",
   "nbconvert_exporter": "python",
   "pygments_lexer": "ipython3",
   "version": "3.12.4"
  }
 },
 "nbformat": 4,
 "nbformat_minor": 5
}
